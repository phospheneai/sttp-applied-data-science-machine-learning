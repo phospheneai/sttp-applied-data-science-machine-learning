{
 "cells": [
  {
   "cell_type": "code",
   "execution_count": 4,
   "metadata": {},
   "outputs": [],
   "source": [
    "import numpy as np \n",
    "import pandas as pd\n",
    "from sklearn.tree import DecisionTreeClassifier\n",
    "from sklearn.compose import ColumnTransformer\n",
    "from sklearn.preprocessing import OrdinalEncoder, LabelEncoder\n",
    "from sklearn.model_selection import train_test_split\n",
    "import seaborn as sns\n",
    "sns.set()"
   ]
  },
  {
   "cell_type": "code",
   "execution_count": 5,
   "metadata": {},
   "outputs": [
    {
     "data": {
      "text/html": [
       "<div>\n",
       "<style scoped>\n",
       "    .dataframe tbody tr th:only-of-type {\n",
       "        vertical-align: middle;\n",
       "    }\n",
       "\n",
       "    .dataframe tbody tr th {\n",
       "        vertical-align: top;\n",
       "    }\n",
       "\n",
       "    .dataframe thead th {\n",
       "        text-align: right;\n",
       "    }\n",
       "</style>\n",
       "<table border=\"1\" class=\"dataframe\">\n",
       "  <thead>\n",
       "    <tr style=\"text-align: right;\">\n",
       "      <th></th>\n",
       "      <th>Age</th>\n",
       "      <th>Sex</th>\n",
       "      <th>BP</th>\n",
       "      <th>Cholesterol</th>\n",
       "      <th>Na_to_K</th>\n",
       "      <th>Drug</th>\n",
       "    </tr>\n",
       "  </thead>\n",
       "  <tbody>\n",
       "    <tr>\n",
       "      <th>0</th>\n",
       "      <td>23</td>\n",
       "      <td>F</td>\n",
       "      <td>HIGH</td>\n",
       "      <td>HIGH</td>\n",
       "      <td>25.355</td>\n",
       "      <td>drugY</td>\n",
       "    </tr>\n",
       "    <tr>\n",
       "      <th>1</th>\n",
       "      <td>47</td>\n",
       "      <td>M</td>\n",
       "      <td>LOW</td>\n",
       "      <td>HIGH</td>\n",
       "      <td>13.093</td>\n",
       "      <td>drugC</td>\n",
       "    </tr>\n",
       "    <tr>\n",
       "      <th>2</th>\n",
       "      <td>47</td>\n",
       "      <td>M</td>\n",
       "      <td>LOW</td>\n",
       "      <td>HIGH</td>\n",
       "      <td>10.114</td>\n",
       "      <td>drugC</td>\n",
       "    </tr>\n",
       "    <tr>\n",
       "      <th>3</th>\n",
       "      <td>28</td>\n",
       "      <td>F</td>\n",
       "      <td>NORMAL</td>\n",
       "      <td>HIGH</td>\n",
       "      <td>7.798</td>\n",
       "      <td>drugX</td>\n",
       "    </tr>\n",
       "    <tr>\n",
       "      <th>4</th>\n",
       "      <td>61</td>\n",
       "      <td>F</td>\n",
       "      <td>LOW</td>\n",
       "      <td>HIGH</td>\n",
       "      <td>18.043</td>\n",
       "      <td>drugY</td>\n",
       "    </tr>\n",
       "  </tbody>\n",
       "</table>\n",
       "</div>"
      ],
      "text/plain": [
       "   Age Sex      BP Cholesterol  Na_to_K   Drug\n",
       "0   23   F    HIGH        HIGH   25.355  drugY\n",
       "1   47   M     LOW        HIGH   13.093  drugC\n",
       "2   47   M     LOW        HIGH   10.114  drugC\n",
       "3   28   F  NORMAL        HIGH    7.798  drugX\n",
       "4   61   F     LOW        HIGH   18.043  drugY"
      ]
     },
     "execution_count": 5,
     "metadata": {},
     "output_type": "execute_result"
    }
   ],
   "source": [
    "data = pd.read_csv('./data-for-ml/drug200.csv')\n",
    "data.head()"
   ]
  },
  {
   "cell_type": "code",
   "execution_count": 6,
   "metadata": {},
   "outputs": [
    {
     "data": {
      "text/plain": [
       "array(['drugY', 'drugC', 'drugX', 'drugA', 'drugB'], dtype=object)"
      ]
     },
     "execution_count": 6,
     "metadata": {},
     "output_type": "execute_result"
    }
   ],
   "source": [
    "data['Drug'].unique()"
   ]
  },
  {
   "cell_type": "code",
   "execution_count": 7,
   "metadata": {},
   "outputs": [
    {
     "data": {
      "text/plain": [
       "array([[23, 'F', 'HIGH', 'HIGH', 25.355],\n",
       "       [47, 'M', 'LOW', 'HIGH', 13.093],\n",
       "       [47, 'M', 'LOW', 'HIGH', 10.113999999999999],\n",
       "       [28, 'F', 'NORMAL', 'HIGH', 7.797999999999999],\n",
       "       [61, 'F', 'LOW', 'HIGH', 18.043]], dtype=object)"
      ]
     },
     "execution_count": 7,
     "metadata": {},
     "output_type": "execute_result"
    }
   ],
   "source": [
    "X = data[['Age', 'Sex', 'BP', 'Cholesterol', 'Na_to_K']].values\n",
    "X[0:5]"
   ]
  },
  {
   "cell_type": "markdown",
   "metadata": {},
   "source": [
    "### Pre-processing"
   ]
  },
  {
   "cell_type": "code",
   "execution_count": 8,
   "metadata": {},
   "outputs": [],
   "source": [
    "sex = [['M', 'F']]\n",
    "bp = [['LOW', 'NORMAL', 'HIGH']]\n",
    "cholestrol = [['HIGH', 'NORMAL']]\n",
    "drug = [['drugA', 'drugB', 'drugC', 'drugX' , 'drugY']]"
   ]
  },
  {
   "cell_type": "code",
   "execution_count": 9,
   "metadata": {},
   "outputs": [],
   "source": [
    "encode_sex = ('sex_encoder', OrdinalEncoder(categories = sex), [1]) # Instead of OrdinalEncoder, we need to use One hot encoding\n",
    "encode_bp = ('bp_encoder', OrdinalEncoder(categories = bp), [2])\n",
    "encode_cholesterol = ('ch_encoder', OrdinalEncoder(categories=cholestrol), [3])"
   ]
  },
  {
   "cell_type": "code",
   "execution_count": 10,
   "metadata": {},
   "outputs": [],
   "source": [
    "transformers = [encode_sex, encode_bp, encode_cholesterol]\n",
    "ct = ColumnTransformer(transformers=transformers, remainder='passthrough')\n",
    "X = np.array(ct.fit_transform(X))"
   ]
  },
  {
   "cell_type": "code",
   "execution_count": 11,
   "metadata": {},
   "outputs": [
    {
     "data": {
      "text/plain": [
       "array([[1.0, 2.0, 0.0, 23, 25.355],\n",
       "       [0.0, 0.0, 0.0, 47, 13.093],\n",
       "       [0.0, 0.0, 0.0, 47, 10.113999999999999],\n",
       "       [1.0, 1.0, 0.0, 28, 7.797999999999999],\n",
       "       [1.0, 0.0, 0.0, 61, 18.043]], dtype=object)"
      ]
     },
     "execution_count": 11,
     "metadata": {},
     "output_type": "execute_result"
    }
   ],
   "source": [
    "X[0:5]"
   ]
  },
  {
   "cell_type": "markdown",
   "metadata": {},
   "source": [
    "## Get output column"
   ]
  },
  {
   "cell_type": "code",
   "execution_count": 12,
   "metadata": {},
   "outputs": [
    {
     "data": {
      "text/plain": [
       "0    drugY\n",
       "1    drugC\n",
       "2    drugC\n",
       "3    drugX\n",
       "4    drugY\n",
       "Name: Drug, dtype: object"
      ]
     },
     "execution_count": 12,
     "metadata": {},
     "output_type": "execute_result"
    }
   ],
   "source": [
    "y = data[\"Drug\"]\n",
    "y[0:5]"
   ]
  },
  {
   "cell_type": "code",
   "execution_count": null,
   "metadata": {},
   "outputs": [],
   "source": []
  },
  {
   "cell_type": "code",
   "execution_count": 13,
   "metadata": {},
   "outputs": [],
   "source": [
    "X_trainset, X_testset, y_trainset, y_testset = train_test_split(X, y, test_size=0.3, random_state=3)"
   ]
  },
  {
   "cell_type": "code",
   "execution_count": 14,
   "metadata": {},
   "outputs": [
    {
     "data": {
      "text/plain": [
       "((140, 5), (140,))"
      ]
     },
     "execution_count": 14,
     "metadata": {},
     "output_type": "execute_result"
    }
   ],
   "source": [
    "X_trainset.shape, y_trainset.shape"
   ]
  },
  {
   "cell_type": "code",
   "execution_count": 15,
   "metadata": {},
   "outputs": [
    {
     "data": {
      "text/plain": [
       "((60, 5), (60,))"
      ]
     },
     "execution_count": 15,
     "metadata": {},
     "output_type": "execute_result"
    }
   ],
   "source": [
    "X_testset.shape, y_testset.shape"
   ]
  },
  {
   "cell_type": "code",
   "execution_count": null,
   "metadata": {},
   "outputs": [],
   "source": []
  },
  {
   "cell_type": "code",
   "execution_count": null,
   "metadata": {},
   "outputs": [],
   "source": []
  },
  {
   "cell_type": "code",
   "execution_count": 16,
   "metadata": {},
   "outputs": [],
   "source": [
    "drugTree = DecisionTreeClassifier(criterion=\"gini\")"
   ]
  },
  {
   "cell_type": "code",
   "execution_count": 17,
   "metadata": {},
   "outputs": [
    {
     "data": {
      "text/plain": [
       "DecisionTreeClassifier()"
      ]
     },
     "execution_count": 17,
     "metadata": {},
     "output_type": "execute_result"
    }
   ],
   "source": [
    "drugTree.fit(X_trainset,y_trainset)"
   ]
  },
  {
   "cell_type": "code",
   "execution_count": 18,
   "metadata": {},
   "outputs": [
    {
     "data": {
      "text/plain": [
       "array([[1.0, 1.0, 0.0, 73, 19.221],\n",
       "       [0.0, 1.0, 1.0, 67, 10.898],\n",
       "       [1.0, 1.0, 0.0, 69, 10.065],\n",
       "       [0.0, 1.0, 0.0, 52, 9.894],\n",
       "       [1.0, 1.0, 0.0, 28, 12.879000000000001],\n",
       "       [1.0, 0.0, 0.0, 32, 9.712],\n",
       "       [1.0, 2.0, 1.0, 36, 15.49],\n",
       "       [1.0, 2.0, 0.0, 37, 13.091],\n",
       "       [0.0, 2.0, 0.0, 70, 13.967],\n",
       "       [0.0, 2.0, 1.0, 31, 11.870999999999999],\n",
       "       [1.0, 1.0, 0.0, 67, 15.890999999999998],\n",
       "       [1.0, 2.0, 1.0, 38, 11.325999999999999],\n",
       "       [1.0, 2.0, 1.0, 28, 18.809],\n",
       "       [0.0, 2.0, 0.0, 58, 18.991],\n",
       "       [1.0, 0.0, 1.0, 34, 12.923],\n",
       "       [1.0, 0.0, 1.0, 41, 18.739],\n",
       "       [0.0, 0.0, 1.0, 36, 11.424000000000001],\n",
       "       [1.0, 1.0, 0.0, 28, 7.797999999999999],\n",
       "       [1.0, 2.0, 1.0, 58, 14.239],\n",
       "       [0.0, 1.0, 1.0, 60, 10.091000000000001],\n",
       "       [1.0, 1.0, 0.0, 50, 12.703],\n",
       "       [0.0, 2.0, 1.0, 74, 15.436],\n",
       "       [0.0, 0.0, 0.0, 43, 15.376],\n",
       "       [1.0, 1.0, 0.0, 49, 16.275],\n",
       "       [1.0, 0.0, 1.0, 20, 11.686],\n",
       "       [1.0, 2.0, 1.0, 57, 9.945],\n",
       "       [0.0, 0.0, 1.0, 47, 33.542],\n",
       "       [0.0, 1.0, 0.0, 34, 22.456],\n",
       "       [1.0, 2.0, 0.0, 45, 12.854000000000001],\n",
       "       [1.0, 1.0, 0.0, 51, 13.597000000000001],\n",
       "       [1.0, 2.0, 0.0, 60, 13.302999999999999],\n",
       "       [0.0, 0.0, 0.0, 68, 10.290999999999999],\n",
       "       [1.0, 0.0, 0.0, 59, 10.444],\n",
       "       [0.0, 1.0, 0.0, 53, 14.133],\n",
       "       [1.0, 1.0, 1.0, 39, 9.709],\n",
       "       [0.0, 0.0, 0.0, 16, 12.005999999999998],\n",
       "       [1.0, 0.0, 0.0, 61, 18.043],\n",
       "       [1.0, 1.0, 0.0, 24, 10.605],\n",
       "       [0.0, 1.0, 1.0, 17, 10.832],\n",
       "       [0.0, 1.0, 0.0, 61, 9.443],\n",
       "       [0.0, 2.0, 1.0, 31, 11.227],\n",
       "       [0.0, 2.0, 0.0, 51, 18.295],\n",
       "       [0.0, 0.0, 0.0, 49, 10.537],\n",
       "       [1.0, 2.0, 1.0, 16, 15.515999999999998],\n",
       "       [0.0, 2.0, 1.0, 24, 9.475],\n",
       "       [1.0, 2.0, 0.0, 73, 18.348],\n",
       "       [0.0, 1.0, 0.0, 28, 27.064],\n",
       "       [1.0, 1.0, 0.0, 70, 20.489],\n",
       "       [1.0, 0.0, 0.0, 48, 15.036],\n",
       "       [1.0, 0.0, 1.0, 72, 14.642000000000001],\n",
       "       [0.0, 2.0, 0.0, 74, 9.567],\n",
       "       [0.0, 1.0, 0.0, 56, 8.966000000000001],\n",
       "       [1.0, 1.0, 1.0, 50, 17.211],\n",
       "       [0.0, 0.0, 1.0, 49, 13.597999999999999],\n",
       "       [0.0, 1.0, 0.0, 23, 16.85],\n",
       "       [0.0, 2.0, 0.0, 66, 16.347],\n",
       "       [0.0, 2.0, 0.0, 43, 13.972000000000001],\n",
       "       [1.0, 1.0, 1.0, 18, 8.75],\n",
       "       [0.0, 1.0, 0.0, 39, 15.969000000000001],\n",
       "       [0.0, 1.0, 1.0, 43, 12.859000000000002]], dtype=object)"
      ]
     },
     "execution_count": 18,
     "metadata": {},
     "output_type": "execute_result"
    }
   ],
   "source": [
    "X_testset"
   ]
  },
  {
   "cell_type": "code",
   "execution_count": 20,
   "metadata": {},
   "outputs": [],
   "source": [
    "predTree = drugTree.predict(X_testset)"
   ]
  },
  {
   "cell_type": "code",
   "execution_count": 21,
   "metadata": {},
   "outputs": [
    {
     "data": {
      "text/plain": [
       "array(['drugY', 'drugX', 'drugX', 'drugX', 'drugX', 'drugC', 'drugY',\n",
       "       'drugA', 'drugB', 'drugA', 'drugY', 'drugA', 'drugY', 'drugY',\n",
       "       'drugX', 'drugY', 'drugX', 'drugX', 'drugB', 'drugX', 'drugX',\n",
       "       'drugY', 'drugY', 'drugY', 'drugX', 'drugB', 'drugY', 'drugY',\n",
       "       'drugA', 'drugX', 'drugB', 'drugC', 'drugC', 'drugX', 'drugX',\n",
       "       'drugC', 'drugY', 'drugX', 'drugX', 'drugX', 'drugA', 'drugY',\n",
       "       'drugC', 'drugY', 'drugA', 'drugY', 'drugY', 'drugY', 'drugY',\n",
       "       'drugY', 'drugB', 'drugX', 'drugY', 'drugX', 'drugY', 'drugY',\n",
       "       'drugA', 'drugX', 'drugY', 'drugX'], dtype=object)"
      ]
     },
     "execution_count": 21,
     "metadata": {},
     "output_type": "execute_result"
    }
   ],
   "source": [
    "predTree"
   ]
  },
  {
   "cell_type": "code",
   "execution_count": 22,
   "metadata": {
    "scrolled": true
   },
   "outputs": [
    {
     "data": {
      "text/plain": [
       "40     drugY\n",
       "51     drugX\n",
       "139    drugX\n",
       "197    drugX\n",
       "170    drugX\n",
       "82     drugC\n",
       "183    drugY\n",
       "46     drugA\n",
       "70     drugB\n",
       "100    drugA\n",
       "179    drugY\n",
       "83     drugA\n",
       "25     drugY\n",
       "190    drugY\n",
       "159    drugX\n",
       "173    drugY\n",
       "95     drugX\n",
       "3      drugX\n",
       "41     drugB\n",
       "58     drugX\n",
       "14     drugX\n",
       "143    drugY\n",
       "12     drugY\n",
       "6      drugY\n",
       "182    drugX\n",
       "161    drugB\n",
       "128    drugY\n",
       "122    drugY\n",
       "101    drugA\n",
       "86     drugX\n",
       "64     drugB\n",
       "47     drugC\n",
       "158    drugC\n",
       "34     drugX\n",
       "38     drugX\n",
       "196    drugC\n",
       "4      drugY\n",
       "72     drugX\n",
       "67     drugX\n",
       "145    drugX\n",
       "156    drugA\n",
       "115    drugY\n",
       "155    drugC\n",
       "15     drugY\n",
       "61     drugA\n",
       "175    drugY\n",
       "120    drugY\n",
       "130    drugY\n",
       "23     drugY\n",
       "153    drugX\n",
       "31     drugB\n",
       "103    drugX\n",
       "89     drugY\n",
       "132    drugX\n",
       "109    drugY\n",
       "126    drugY\n",
       "17     drugA\n",
       "30     drugX\n",
       "178    drugY\n",
       "162    drugX\n",
       "Name: Drug, dtype: object"
      ]
     },
     "execution_count": 22,
     "metadata": {},
     "output_type": "execute_result"
    }
   ],
   "source": [
    "y_testset"
   ]
  },
  {
   "cell_type": "code",
   "execution_count": 23,
   "metadata": {},
   "outputs": [
    {
     "name": "stdout",
     "output_type": "stream",
     "text": [
      "DecisionTrees's Accuracy:  0.9833333333333333\n"
     ]
    }
   ],
   "source": [
    "from sklearn import metrics\n",
    "import matplotlib.pyplot as plt\n",
    "print(\"DecisionTrees's Accuracy: \", metrics.accuracy_score(y_testset, predTree))"
   ]
  },
  {
   "cell_type": "code",
   "execution_count": 19,
   "metadata": {},
   "outputs": [],
   "source": [
    "from sklearn.metrics import confusion_matrix\n",
    "y_pred = drugTree.predict(X_testset)\n",
    "pl = confusion_matrix(y_testset,y_pred)"
   ]
  },
  {
   "cell_type": "code",
   "execution_count": 20,
   "metadata": {},
   "outputs": [
    {
     "data": {
      "text/plain": [
       "<AxesSubplot:>"
      ]
     },
     "execution_count": 20,
     "metadata": {},
     "output_type": "execute_result"
    },
    {
     "data": {
      "image/png": "[encoded data removed]",
      "text/plain": [
       "<Figure size 432x288 with 2 Axes>"
      ]
     },
     "metadata": {},
     "output_type": "display_data"
    }
   ],
   "source": [
    "sns.heatmap(pl, annot=True, fmt='g')"
   ]
  },
  {
   "cell_type": "code",
   "execution_count": null,
   "metadata": {},
   "outputs": [],
   "source": []
  },
  {
   "cell_type": "code",
   "execution_count": null,
   "metadata": {},
   "outputs": [],
   "source": []
  },
  {
   "cell_type": "code",
   "execution_count": 24,
   "metadata": {},
   "outputs": [
    {
     "data": {
      "image/svg+xml": [
       "<?xml version=\"1.0\" encoding=\"UTF-8\" standalone=\"no\"?>\r\n",
       "<!DOCTYPE svg PUBLIC \"-//W3C//DTD SVG 1.1//EN\"\r\n",
       " \"http://www.w3.org/Graphics/SVG/1.1/DTD/svg11.dtd\">\r\n",
       "<!-- Generated by graphviz version 2.38.0 (20140413.2041)\r\n",
       " -->\r\n",
       "<!-- Title: Tree Pages: 1 -->\r\n",
       "<svg width=\"764pt\" height=\"552pt\"\r\n",
       " viewBox=\"0.00 0.00 764.00 552.00\" xmlns=\"http://www.w3.org/2000/svg\" xmlns:xlink=\"http://www.w3.org/1999/xlink\">\r\n",
       "<g id=\"graph0\" class=\"graph\" transform=\"scale(1 1) rotate(0) translate(4 548)\">\r\n",
       "<title>Tree</title>\r\n",
       "<polygon fill=\"white\" stroke=\"none\" points=\"-4,4 -4,-548 760,-548 760,4 -4,4\"/>\r\n",
       "<!-- 0 -->\r\n",
       "<g id=\"node1\" class=\"node\"><title>0</title>\r\n",
       "<path fill=\"#f6bcea\" stroke=\"black\" d=\"M593.5,-544C593.5,-544 432.5,-544 432.5,-544 426.5,-544 420.5,-538 420.5,-532 420.5,-532 420.5,-473 420.5,-473 420.5,-467 426.5,-461 432.5,-461 432.5,-461 593.5,-461 593.5,-461 599.5,-461 605.5,-467 605.5,-473 605.5,-473 605.5,-532 605.5,-532 605.5,-538 599.5,-544 593.5,-544\"/>\r\n",
       "<text text-anchor=\"start\" x=\"455\" y=\"-528.8\" font-family=\"Helvetica,sans-Serif\" font-size=\"14.00\">Na_to_K ≤ 14.615</text>\r\n",
       "<text text-anchor=\"start\" x=\"475.5\" y=\"-513.8\" font-family=\"Helvetica,sans-Serif\" font-size=\"14.00\">gini = 0.676</text>\r\n",
       "<text text-anchor=\"start\" x=\"465.5\" y=\"-498.8\" font-family=\"Helvetica,sans-Serif\" font-size=\"14.00\">samples = 140</text>\r\n",
       "<text text-anchor=\"start\" x=\"428.5\" y=\"-483.8\" font-family=\"Helvetica,sans-Serif\" font-size=\"14.00\">value = [16, 11, 11, 33, 69]</text>\r\n",
       "<text text-anchor=\"start\" x=\"469\" y=\"-468.8\" font-family=\"Helvetica,sans-Serif\" font-size=\"14.00\">class = drugB</text>\r\n",
       "</g>\r\n",
       "<!-- 1 -->\r\n",
       "<g id=\"node2\" class=\"node\"><title>1</title>\r\n",
       "<path fill=\"#c3c2f7\" stroke=\"black\" d=\"M498.5,-425C498.5,-425 345.5,-425 345.5,-425 339.5,-425 333.5,-419 333.5,-413 333.5,-413 333.5,-354 333.5,-354 333.5,-348 339.5,-342 345.5,-342 345.5,-342 498.5,-342 498.5,-342 504.5,-342 510.5,-348 510.5,-354 510.5,-354 510.5,-413 510.5,-413 510.5,-419 504.5,-425 498.5,-425\"/>\r\n",
       "<text text-anchor=\"start\" x=\"394.5\" y=\"-409.8\" font-family=\"Helvetica,sans-Serif\" font-size=\"14.00\">BP ≤ 1.5</text>\r\n",
       "<text text-anchor=\"start\" x=\"384.5\" y=\"-394.8\" font-family=\"Helvetica,sans-Serif\" font-size=\"14.00\">gini = 0.685</text>\r\n",
       "<text text-anchor=\"start\" x=\"378.5\" y=\"-379.8\" font-family=\"Helvetica,sans-Serif\" font-size=\"14.00\">samples = 71</text>\r\n",
       "<text text-anchor=\"start\" x=\"341.5\" y=\"-364.8\" font-family=\"Helvetica,sans-Serif\" font-size=\"14.00\">value = [16, 11, 11, 33, 0]</text>\r\n",
       "<text text-anchor=\"start\" x=\"378\" y=\"-349.8\" font-family=\"Helvetica,sans-Serif\" font-size=\"14.00\">class = drugA</text>\r\n",
       "</g>\r\n",
       "<!-- 0&#45;&gt;1 -->\r\n",
       "<g id=\"edge1\" class=\"edge\"><title>0&#45;&gt;1</title>\r\n",
       "<path fill=\"none\" stroke=\"black\" d=\"M481.428,-460.907C474.44,-451.923 466.967,-442.315 459.761,-433.05\"/>\r\n",
       "<polygon fill=\"black\" stroke=\"black\" points=\"462.418,-430.766 453.516,-425.021 456.893,-435.063 462.418,-430.766\"/>\r\n",
       "<text text-anchor=\"middle\" x=\"450.415\" y=\"-446.128\" font-family=\"Helvetica,sans-Serif\" font-size=\"14.00\">True</text>\r\n",
       "</g>\r\n",
       "<!-- 10 -->\r\n",
       "<g id=\"node11\" class=\"node\"><title>10</title>\r\n",
       "<path fill=\"#e539c0\" stroke=\"black\" d=\"M669,-417.5C669,-417.5 541,-417.5 541,-417.5 535,-417.5 529,-411.5 529,-405.5 529,-405.5 529,-361.5 529,-361.5 529,-355.5 535,-349.5 541,-349.5 541,-349.5 669,-349.5 669,-349.5 675,-349.5 681,-355.5 681,-361.5 681,-361.5 681,-405.5 681,-405.5 681,-411.5 675,-417.5 669,-417.5\"/>\r\n",
       "<text text-anchor=\"start\" x=\"576\" y=\"-402.3\" font-family=\"Helvetica,sans-Serif\" font-size=\"14.00\">gini = 0.0</text>\r\n",
       "<text text-anchor=\"start\" x=\"561.5\" y=\"-387.3\" font-family=\"Helvetica,sans-Serif\" font-size=\"14.00\">samples = 69</text>\r\n",
       "<text text-anchor=\"start\" x=\"537\" y=\"-372.3\" font-family=\"Helvetica,sans-Serif\" font-size=\"14.00\">value = [0, 0, 0, 0, 69]</text>\r\n",
       "<text text-anchor=\"start\" x=\"561\" y=\"-357.3\" font-family=\"Helvetica,sans-Serif\" font-size=\"14.00\">class = drugB</text>\r\n",
       "</g>\r\n",
       "<!-- 0&#45;&gt;10 -->\r\n",
       "<g id=\"edge10\" class=\"edge\"><title>0&#45;&gt;10</title>\r\n",
       "<path fill=\"none\" stroke=\"black\" d=\"M544.919,-460.907C553.856,-449.542 563.578,-437.178 572.545,-425.774\"/>\r\n",
       "<polygon fill=\"black\" stroke=\"black\" points=\"575.49,-427.691 578.92,-417.667 569.987,-423.364 575.49,-427.691\"/>\r\n",
       "<text text-anchor=\"middle\" x=\"581.889\" y=\"-438.79\" font-family=\"Helvetica,sans-Serif\" font-size=\"14.00\">False</text>\r\n",
       "</g>\r\n",
       "<!-- 2 -->\r\n",
       "<g id=\"node3\" class=\"node\"><title>2</title>\r\n",
       "<path fill=\"#7d7bee\" stroke=\"black\" d=\"M401.5,-306C401.5,-306 264.5,-306 264.5,-306 258.5,-306 252.5,-300 252.5,-294 252.5,-294 252.5,-235 252.5,-235 252.5,-229 258.5,-223 264.5,-223 264.5,-223 401.5,-223 401.5,-223 407.5,-223 413.5,-229 413.5,-235 413.5,-235 413.5,-294 413.5,-294 413.5,-300 407.5,-306 401.5,-306\"/>\r\n",
       "<text text-anchor=\"start\" x=\"278.5\" y=\"-290.8\" font-family=\"Helvetica,sans-Serif\" font-size=\"14.00\">Cholesterol ≤ 0.5</text>\r\n",
       "<text text-anchor=\"start\" x=\"295.5\" y=\"-275.8\" font-family=\"Helvetica,sans-Serif\" font-size=\"14.00\">gini = 0.375</text>\r\n",
       "<text text-anchor=\"start\" x=\"289.5\" y=\"-260.8\" font-family=\"Helvetica,sans-Serif\" font-size=\"14.00\">samples = 44</text>\r\n",
       "<text text-anchor=\"start\" x=\"260.5\" y=\"-245.8\" font-family=\"Helvetica,sans-Serif\" font-size=\"14.00\">value = [0, 0, 11, 33, 0]</text>\r\n",
       "<text text-anchor=\"start\" x=\"289\" y=\"-230.8\" font-family=\"Helvetica,sans-Serif\" font-size=\"14.00\">class = drugA</text>\r\n",
       "</g>\r\n",
       "<!-- 1&#45;&gt;2 -->\r\n",
       "<g id=\"edge2\" class=\"edge\"><title>1&#45;&gt;2</title>\r\n",
       "<path fill=\"none\" stroke=\"black\" d=\"M391.122,-341.907C384.288,-332.923 376.979,-323.315 369.931,-314.05\"/>\r\n",
       "<polygon fill=\"black\" stroke=\"black\" points=\"372.664,-311.861 363.824,-306.021 367.092,-316.099 372.664,-311.861\"/>\r\n",
       "</g>\r\n",
       "<!-- 7 -->\r\n",
       "<g id=\"node8\" class=\"node\"><title>7</title>\r\n",
       "<path fill=\"#f7d8c1\" stroke=\"black\" d=\"M580.5,-306C580.5,-306 443.5,-306 443.5,-306 437.5,-306 431.5,-300 431.5,-294 431.5,-294 431.5,-235 431.5,-235 431.5,-229 437.5,-223 443.5,-223 443.5,-223 580.5,-223 580.5,-223 586.5,-223 592.5,-229 592.5,-235 592.5,-235 592.5,-294 592.5,-294 592.5,-300 586.5,-306 580.5,-306\"/>\r\n",
       "<text text-anchor=\"start\" x=\"477\" y=\"-290.8\" font-family=\"Helvetica,sans-Serif\" font-size=\"14.00\">Age ≤ 50.5</text>\r\n",
       "<text text-anchor=\"start\" x=\"474.5\" y=\"-275.8\" font-family=\"Helvetica,sans-Serif\" font-size=\"14.00\">gini = 0.483</text>\r\n",
       "<text text-anchor=\"start\" x=\"468.5\" y=\"-260.8\" font-family=\"Helvetica,sans-Serif\" font-size=\"14.00\">samples = 27</text>\r\n",
       "<text text-anchor=\"start\" x=\"439.5\" y=\"-245.8\" font-family=\"Helvetica,sans-Serif\" font-size=\"14.00\">value = [16, 11, 0, 0, 0]</text>\r\n",
       "<text text-anchor=\"start\" x=\"468.5\" y=\"-230.8\" font-family=\"Helvetica,sans-Serif\" font-size=\"14.00\">class = drugY</text>\r\n",
       "</g>\r\n",
       "<!-- 1&#45;&gt;7 -->\r\n",
       "<g id=\"edge7\" class=\"edge\"><title>1&#45;&gt;7</title>\r\n",
       "<path fill=\"none\" stroke=\"black\" d=\"M453.225,-341.907C460.136,-332.923 467.527,-323.315 474.654,-314.05\"/>\r\n",
       "<polygon fill=\"black\" stroke=\"black\" points=\"477.507,-316.081 480.83,-306.021 471.959,-311.813 477.507,-316.081\"/>\r\n",
       "</g>\r\n",
       "<!-- 3 -->\r\n",
       "<g id=\"node4\" class=\"node\"><title>3</title>\r\n",
       "<path fill=\"#edfdfa\" stroke=\"black\" d=\"M229.5,-187C229.5,-187 92.5,-187 92.5,-187 86.5,-187 80.5,-181 80.5,-175 80.5,-175 80.5,-116 80.5,-116 80.5,-110 86.5,-104 92.5,-104 92.5,-104 229.5,-104 229.5,-104 235.5,-104 241.5,-110 241.5,-116 241.5,-116 241.5,-175 241.5,-175 241.5,-181 235.5,-187 229.5,-187\"/>\r\n",
       "<text text-anchor=\"start\" x=\"133.5\" y=\"-171.8\" font-family=\"Helvetica,sans-Serif\" font-size=\"14.00\">BP ≤ 0.5</text>\r\n",
       "<text text-anchor=\"start\" x=\"123.5\" y=\"-156.8\" font-family=\"Helvetica,sans-Serif\" font-size=\"14.00\">gini = 0.499</text>\r\n",
       "<text text-anchor=\"start\" x=\"117.5\" y=\"-141.8\" font-family=\"Helvetica,sans-Serif\" font-size=\"14.00\">samples = 21</text>\r\n",
       "<text text-anchor=\"start\" x=\"88.5\" y=\"-126.8\" font-family=\"Helvetica,sans-Serif\" font-size=\"14.00\">value = [0, 0, 11, 10, 0]</text>\r\n",
       "<text text-anchor=\"start\" x=\"117\" y=\"-111.8\" font-family=\"Helvetica,sans-Serif\" font-size=\"14.00\">class = drugX</text>\r\n",
       "</g>\r\n",
       "<!-- 2&#45;&gt;3 -->\r\n",
       "<g id=\"edge3\" class=\"edge\"><title>2&#45;&gt;3</title>\r\n",
       "<path fill=\"none\" stroke=\"black\" d=\"M273.325,-222.907C259.05,-213.197 243.704,-202.758 229.082,-192.811\"/>\r\n",
       "<polygon fill=\"black\" stroke=\"black\" points=\"230.806,-189.751 220.569,-187.021 226.869,-195.539 230.806,-189.751\"/>\r\n",
       "</g>\r\n",
       "<!-- 6 -->\r\n",
       "<g id=\"node7\" class=\"node\"><title>6</title>\r\n",
       "<path fill=\"#3c39e5\" stroke=\"black\" d=\"M400,-179.5C400,-179.5 272,-179.5 272,-179.5 266,-179.5 260,-173.5 260,-167.5 260,-167.5 260,-123.5 260,-123.5 260,-117.5 266,-111.5 272,-111.5 272,-111.5 400,-111.5 400,-111.5 406,-111.5 412,-117.5 412,-123.5 412,-123.5 412,-167.5 412,-167.5 412,-173.5 406,-179.5 400,-179.5\"/>\r\n",
       "<text text-anchor=\"start\" x=\"307\" y=\"-164.3\" font-family=\"Helvetica,sans-Serif\" font-size=\"14.00\">gini = 0.0</text>\r\n",
       "<text text-anchor=\"start\" x=\"292.5\" y=\"-149.3\" font-family=\"Helvetica,sans-Serif\" font-size=\"14.00\">samples = 23</text>\r\n",
       "<text text-anchor=\"start\" x=\"268\" y=\"-134.3\" font-family=\"Helvetica,sans-Serif\" font-size=\"14.00\">value = [0, 0, 0, 23, 0]</text>\r\n",
       "<text text-anchor=\"start\" x=\"292\" y=\"-119.3\" font-family=\"Helvetica,sans-Serif\" font-size=\"14.00\">class = drugA</text>\r\n",
       "</g>\r\n",
       "<!-- 2&#45;&gt;6 -->\r\n",
       "<g id=\"edge6\" class=\"edge\"><title>2&#45;&gt;6</title>\r\n",
       "<path fill=\"none\" stroke=\"black\" d=\"M334.041,-222.907C334.315,-212.204 334.612,-200.615 334.89,-189.776\"/>\r\n",
       "<polygon fill=\"black\" stroke=\"black\" points=\"338.392,-189.753 335.15,-179.667 331.394,-189.574 338.392,-189.753\"/>\r\n",
       "</g>\r\n",
       "<!-- 4 -->\r\n",
       "<g id=\"node5\" class=\"node\"><title>4</title>\r\n",
       "<path fill=\"#39e5c5\" stroke=\"black\" d=\"M140,-68C140,-68 12,-68 12,-68 6,-68 0,-62 0,-56 0,-56 0,-12 0,-12 0,-6 6,-0 12,-0 12,-0 140,-0 140,-0 146,-0 152,-6 152,-12 152,-12 152,-56 152,-56 152,-62 146,-68 140,-68\"/>\r\n",
       "<text text-anchor=\"start\" x=\"47\" y=\"-52.8\" font-family=\"Helvetica,sans-Serif\" font-size=\"14.00\">gini = 0.0</text>\r\n",
       "<text text-anchor=\"start\" x=\"32.5\" y=\"-37.8\" font-family=\"Helvetica,sans-Serif\" font-size=\"14.00\">samples = 11</text>\r\n",
       "<text text-anchor=\"start\" x=\"8\" y=\"-22.8\" font-family=\"Helvetica,sans-Serif\" font-size=\"14.00\">value = [0, 0, 11, 0, 0]</text>\r\n",
       "<text text-anchor=\"start\" x=\"32\" y=\"-7.8\" font-family=\"Helvetica,sans-Serif\" font-size=\"14.00\">class = drugX</text>\r\n",
       "</g>\r\n",
       "<!-- 3&#45;&gt;4 -->\r\n",
       "<g id=\"edge4\" class=\"edge\"><title>3&#45;&gt;4</title>\r\n",
       "<path fill=\"none\" stroke=\"black\" d=\"M129.349,-103.726C122.411,-94.7878 115.059,-85.3168 108.103,-76.3558\"/>\r\n",
       "<polygon fill=\"black\" stroke=\"black\" points=\"110.746,-74.0528 101.849,-68.2996 105.216,-78.3451 110.746,-74.0528\"/>\r\n",
       "</g>\r\n",
       "<!-- 5 -->\r\n",
       "<g id=\"node6\" class=\"node\"><title>5</title>\r\n",
       "<path fill=\"#3c39e5\" stroke=\"black\" d=\"M310,-68C310,-68 182,-68 182,-68 176,-68 170,-62 170,-56 170,-56 170,-12 170,-12 170,-6 176,-0 182,-0 182,-0 310,-0 310,-0 316,-0 322,-6 322,-12 322,-12 322,-56 322,-56 322,-62 316,-68 310,-68\"/>\r\n",
       "<text text-anchor=\"start\" x=\"217\" y=\"-52.8\" font-family=\"Helvetica,sans-Serif\" font-size=\"14.00\">gini = 0.0</text>\r\n",
       "<text text-anchor=\"start\" x=\"202.5\" y=\"-37.8\" font-family=\"Helvetica,sans-Serif\" font-size=\"14.00\">samples = 10</text>\r\n",
       "<text text-anchor=\"start\" x=\"178\" y=\"-22.8\" font-family=\"Helvetica,sans-Serif\" font-size=\"14.00\">value = [0, 0, 0, 10, 0]</text>\r\n",
       "<text text-anchor=\"start\" x=\"202\" y=\"-7.8\" font-family=\"Helvetica,sans-Serif\" font-size=\"14.00\">class = drugA</text>\r\n",
       "</g>\r\n",
       "<!-- 3&#45;&gt;5 -->\r\n",
       "<g id=\"edge5\" class=\"edge\"><title>3&#45;&gt;5</title>\r\n",
       "<path fill=\"none\" stroke=\"black\" d=\"M192.651,-103.726C199.589,-94.7878 206.941,-85.3168 213.897,-76.3558\"/>\r\n",
       "<polygon fill=\"black\" stroke=\"black\" points=\"216.784,-78.3451 220.151,-68.2996 211.254,-74.0528 216.784,-78.3451\"/>\r\n",
       "</g>\r\n",
       "<!-- 8 -->\r\n",
       "<g id=\"node9\" class=\"node\"><title>8</title>\r\n",
       "<path fill=\"#e58139\" stroke=\"black\" d=\"M574,-179.5C574,-179.5 446,-179.5 446,-179.5 440,-179.5 434,-173.5 434,-167.5 434,-167.5 434,-123.5 434,-123.5 434,-117.5 440,-111.5 446,-111.5 446,-111.5 574,-111.5 574,-111.5 580,-111.5 586,-117.5 586,-123.5 586,-123.5 586,-167.5 586,-167.5 586,-173.5 580,-179.5 574,-179.5\"/>\r\n",
       "<text text-anchor=\"start\" x=\"481\" y=\"-164.3\" font-family=\"Helvetica,sans-Serif\" font-size=\"14.00\">gini = 0.0</text>\r\n",
       "<text text-anchor=\"start\" x=\"466.5\" y=\"-149.3\" font-family=\"Helvetica,sans-Serif\" font-size=\"14.00\">samples = 16</text>\r\n",
       "<text text-anchor=\"start\" x=\"442\" y=\"-134.3\" font-family=\"Helvetica,sans-Serif\" font-size=\"14.00\">value = [16, 0, 0, 0, 0]</text>\r\n",
       "<text text-anchor=\"start\" x=\"466.5\" y=\"-119.3\" font-family=\"Helvetica,sans-Serif\" font-size=\"14.00\">class = drugY</text>\r\n",
       "</g>\r\n",
       "<!-- 7&#45;&gt;8 -->\r\n",
       "<g id=\"edge8\" class=\"edge\"><title>7&#45;&gt;8</title>\r\n",
       "<path fill=\"none\" stroke=\"black\" d=\"M511.306,-222.907C511.123,-212.204 510.925,-200.615 510.74,-189.776\"/>\r\n",
       "<polygon fill=\"black\" stroke=\"black\" points=\"514.237,-189.606 510.567,-179.667 507.238,-189.725 514.237,-189.606\"/>\r\n",
       "</g>\r\n",
       "<!-- 9 -->\r\n",
       "<g id=\"node10\" class=\"node\"><title>9</title>\r\n",
       "<path fill=\"#7be539\" stroke=\"black\" d=\"M744,-179.5C744,-179.5 616,-179.5 616,-179.5 610,-179.5 604,-173.5 604,-167.5 604,-167.5 604,-123.5 604,-123.5 604,-117.5 610,-111.5 616,-111.5 616,-111.5 744,-111.5 744,-111.5 750,-111.5 756,-117.5 756,-123.5 756,-123.5 756,-167.5 756,-167.5 756,-173.5 750,-179.5 744,-179.5\"/>\r\n",
       "<text text-anchor=\"start\" x=\"651\" y=\"-164.3\" font-family=\"Helvetica,sans-Serif\" font-size=\"14.00\">gini = 0.0</text>\r\n",
       "<text text-anchor=\"start\" x=\"636.5\" y=\"-149.3\" font-family=\"Helvetica,sans-Serif\" font-size=\"14.00\">samples = 11</text>\r\n",
       "<text text-anchor=\"start\" x=\"612\" y=\"-134.3\" font-family=\"Helvetica,sans-Serif\" font-size=\"14.00\">value = [0, 11, 0, 0, 0]</text>\r\n",
       "<text text-anchor=\"start\" x=\"636\" y=\"-119.3\" font-family=\"Helvetica,sans-Serif\" font-size=\"14.00\">class = drugC</text>\r\n",
       "</g>\r\n",
       "<!-- 7&#45;&gt;9 -->\r\n",
       "<g id=\"edge9\" class=\"edge\"><title>7&#45;&gt;9</title>\r\n",
       "<path fill=\"none\" stroke=\"black\" d=\"M570.287,-222.907C587.716,-210.769 606.779,-197.493 624.054,-185.462\"/>\r\n",
       "<polygon fill=\"black\" stroke=\"black\" points=\"626.17,-188.254 632.376,-179.667 622.169,-182.51 626.17,-188.254\"/>\r\n",
       "</g>\r\n",
       "</g>\r\n",
       "</svg>\r\n"
      ],
      "text/plain": [
       "<graphviz.files.Source at 0x24eb3a7de50>"
      ]
     },
     "execution_count": 24,
     "metadata": {},
     "output_type": "execute_result"
    }
   ],
   "source": [
    "from sklearn.tree import export_graphviz\n",
    "import graphviz\n",
    "dot_data = export_graphviz(drugTree,\n",
    "                           filled=True, \n",
    "                           rounded=True,\n",
    "                           class_names=['drugY', 'drugC', 'drugX', 'drugA', 'drugB'],\n",
    "                           feature_names=['Sex', 'BP','Cholesterol','Age','Na_to_K'],\n",
    "                           special_characters=True,\n",
    "                           out_file=None)\n",
    "graph = graphviz.Source(dot_data)\n",
    "graph.render(\"Decison Tree\")\n",
    "graph"
   ]
  },
  {
   "cell_type": "code",
   "execution_count": null,
   "metadata": {},
   "outputs": [],
   "source": []
  }
 ],
 "metadata": {
  "kernelspec": {
   "display_name": "Python 3",
   "language": "python",
   "name": "python3"
  },
  "language_info": {
   "codemirror_mode": {
    "name": "ipython",
    "version": 3
   },
   "file_extension": ".py",
   "mimetype": "text/x-python",
   "name": "python",
   "nbconvert_exporter": "python",
   "pygments_lexer": "ipython3",
   "version": "3.8.5"
  }
 },
 "nbformat": 4,
 "nbformat_minor": 4
}
